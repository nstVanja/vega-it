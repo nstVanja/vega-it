{
  "metadata": {
    "language_info": {
      "codemirror_mode": {
        "name": "python",
        "version": 3
      },
      "file_extension": ".py",
      "mimetype": "text/x-python",
      "name": "python",
      "nbconvert_exporter": "python",
      "pygments_lexer": "ipython3",
      "version": "3.8"
    },
    "kernelspec": {
      "name": "python",
      "display_name": "Python (Pyodide)",
      "language": "python"
    }
  },
  "nbformat_minor": 4,
  "nbformat": 4,
  "cells": [
    {
      "cell_type": "code",
      "source": "def voda(drum):\n    total = 0\n    levo = 0\n    desno = len(drum)-1\n    nivo = 0\n\n    while levo < desno:\n        if drum[levo] < drum[desno]:\n            manji = drum[levo]\n            levo += 1\n        else:\n            manji = drum[desno]\n            desno -= 1\n        nivo = max(nivo, manji)\n        total += nivo - manji\n    print(total)",
      "metadata": {
        "trusted": true
      },
      "execution_count": 11,
      "outputs": []
    },
    {
      "cell_type": "markdown",
      "source": "### 10 je očekivani rezultat",
      "metadata": {}
    },
    {
      "cell_type": "code",
      "source": "voda(drum=[3, 0, 0, 2, 0, 4])",
      "metadata": {
        "trusted": true
      },
      "execution_count": 13,
      "outputs": [
        {
          "name": "stdout",
          "text": "10\n",
          "output_type": "stream"
        }
      ]
    },
    {
      "cell_type": "code",
      "source": "",
      "metadata": {},
      "execution_count": null,
      "outputs": []
    }
  ]
}